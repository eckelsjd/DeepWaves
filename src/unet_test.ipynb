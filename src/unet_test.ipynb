{
 "cells": [
  {
   "cell_type": "markdown",
   "metadata": {},
   "source": [
    "# Run inference on a test set and save predictions\n",
    "Date: December 28, 2020  \n",
    "Author: Joshua Eckels (eckelsjd@rose-hulman.edu)  "
   ]
  },
  {
   "cell_type": "markdown",
   "metadata": {},
   "source": [
    "## Issues\n",
    "- load_learner requires the IoU function be defined somewhere (need to train and then export the learner with learner.metrics = [] next time)\n",
    "- source code changed on torch.nn conv2d\n",
    "- export to .onnx file doesn't work"
   ]
  },
  {
   "cell_type": "code",
   "execution_count": 20,
   "metadata": {},
   "outputs": [],
   "source": [
    "%reload_ext autoreload\n",
    "%autoreload 2\n",
    "%matplotlib inline"
   ]
  },
  {
   "cell_type": "code",
   "execution_count": 21,
   "metadata": {},
   "outputs": [],
   "source": [
    "from fastai.vision import *\n",
    "import torch\n",
    "from torch.nn import functional as F\n",
    "import os\n",
    "\n",
    "# problem with fastia cuda usage - blows gpu memory away\n",
    "# defaults.device = 'cpu'"
   ]
  },
  {
   "cell_type": "code",
   "execution_count": 22,
   "metadata": {},
   "outputs": [],
   "source": [
    "# Return Jaccard index, or Intersection over Union (IoU) value\n",
    "def IoU(preds:Tensor, targs:Tensor, eps:float=1e-8):\n",
    "    \"\"\"Computes the Jaccard loss, a.k.a the IoU loss.\n",
    "    Notes: [Batch size,Num classes,Height,Width]\n",
    "    Args:\n",
    "        targs: a tensor of shape [B, H, W] or [B, 1, H, W].\n",
    "        preds: a tensor of shape [B, C, H, W]. Corresponds to\n",
    "            the raw output or logits of the model. (prediction)\n",
    "        eps: added to the denominator for numerical stability.\n",
    "    Returns:\n",
    "        iou: the average class intersection over union value \n",
    "             for multi-class image segmentation\n",
    "    \"\"\"\n",
    "    num_classes = preds.shape[1]\n",
    "    \n",
    "    # Single class segmentation?\n",
    "    if num_classes == 1:\n",
    "        true_1_hot = torch.eye(num_classes + 1)[targs.squeeze(1)]\n",
    "        true_1_hot = true_1_hot.permute(0, 3, 1, 2).float()\n",
    "        true_1_hot_f = true_1_hot[:, 0:1, :, :]\n",
    "        true_1_hot_s = true_1_hot[:, 1:2, :, :]\n",
    "        true_1_hot = torch.cat([true_1_hot_s, true_1_hot_f], dim=1)\n",
    "        pos_prob = torch.sigmoid(preds)\n",
    "        neg_prob = 1 - pos_prob\n",
    "        probas = torch.cat([pos_prob, neg_prob], dim=1)\n",
    "        \n",
    "    # Multi-class segmentation\n",
    "    else:\n",
    "        # Convert target to one-hot encoding\n",
    "        # true_1_hot = torch.eye(num_classes)[torch.squeeze(targs,1)]\n",
    "        true_1_hot = torch.eye(num_classes)[targs.squeeze(1)]\n",
    "        \n",
    "        # Permute [B,H,W,C] to [B,C,H,W]\n",
    "        true_1_hot = true_1_hot.permute(0, 3, 1, 2).float()\n",
    "        \n",
    "        # Take softmax along class dimension; all class probs add to 1 (per pixel)\n",
    "        probas = F.softmax(preds, dim=1)\n",
    "        \n",
    "    true_1_hot = true_1_hot.type(preds.type())\n",
    "    \n",
    "    # Sum probabilities by class and across batch images\n",
    "    dims = (0,) + tuple(range(2, targs.ndimension()))\n",
    "    intersection = torch.sum(probas * true_1_hot, dims) # [class0,class1,class2,...]\n",
    "    cardinality = torch.sum(probas + true_1_hot, dims)  # [class0,class1,class2,...]\n",
    "    union = cardinality - intersection\n",
    "    iou = (intersection / (union + eps)).mean()   # find mean of class IoU values\n",
    "    return iou"
   ]
  },
  {
   "cell_type": "code",
   "execution_count": 23,
   "metadata": {},
   "outputs": [
    {
     "name": "stderr",
     "output_type": "stream",
     "text": [
      "/home/eckelsjd/.virtualenvs/fastai/lib/python3.6/site-packages/torch/serialization.py:657: SourceChangeWarning: source code of class 'torch.nn.modules.conv.Conv2d' has changed. you can retrieve the original source code by accessing the object's source attribute or set `torch.nn.Module.dump_patches = True` and use the patch tool to revert the changes.\n",
      "  warnings.warn(msg, SourceChangeWarning)\n"
     ]
    }
   ],
   "source": [
    "# Load learner from .pkl file\n",
    "# learn.export() # to 'learn.path/'export.pkl'\n",
    "test_dir = Path(\"../test\");\n",
    "learn = load_learner(path=\"../models/\",file=\"export_JE.pkl\",test=SegmentationItemList.from_folder(test_dir/\"testset\"),tfm_y=False)"
   ]
  },
  {
   "cell_type": "code",
   "execution_count": 24,
   "metadata": {
    "scrolled": true
   },
   "outputs": [],
   "source": [
    "num_test = len(learn.data.test_ds.items);"
   ]
  },
  {
   "cell_type": "code",
   "execution_count": 25,
   "metadata": {},
   "outputs": [],
   "source": [
    "# Determine type of image\n",
    "# filename = str(learn.data.test_ds.items[0])\n",
    "# if '_real' in filename:\n",
    "#     token = '_real'\n",
    "# elif '_imaginary' in filename:\n",
    "#     token = '_imaginary'\n",
    "# else:\n",
    "#     print(\"Error: image needs to contain one of the above\")\n",
    "\n",
    "# Just do real images for testing\n",
    "token = '_real'"
   ]
  },
  {
   "cell_type": "code",
   "execution_count": 26,
   "metadata": {},
   "outputs": [],
   "source": [
    "# get the filename of the prediction image\n",
    "get_pred_fn = lambda x: test_dir/\"predictions\"/f'{x.stem.split(token)[0]}_pred{x.suffix}'"
   ]
  },
  {
   "cell_type": "code",
   "execution_count": 27,
   "metadata": {},
   "outputs": [],
   "source": [
    "# loop through all test images; run inference one at a time\n",
    "for i in range(num_test):\n",
    "    img_fn = str(learn.data.test_ds.items[i]).split(\"/\")[-1] \n",
    "    \n",
    "    if not token in img_fn:\n",
    "        continue # skip imaginary\n",
    "        \n",
    "    test_img = open_image(learn.data.test_ds.items[i])\n",
    "    \n",
    "    # Show single prediction\n",
    "    pred = learn.predict(test_img)\n",
    "    mask = pred[0]\n",
    "#     test_img.show(y=mask)\n",
    "    # pred = tuple(ImageSegment,Tensor[1,720,960],Tensor[32,720,960])\n",
    "    #      = tuple(mask image, class pixel values, probabilities)\n",
    "    \n",
    "    # Save mask image to predictions folder\n",
    "    X = image2np(mask.data).astype(np.uint8)\n",
    "    pred_fn = get_pred_fn(Path(img_fn))\n",
    "    PIL.Image.fromarray(X).save(Path(pred_fn))"
   ]
  },
  {
   "cell_type": "code",
   "execution_count": null,
   "metadata": {},
   "outputs": [],
   "source": [
    "# Batch prediction (RUNS OUT OF MEMORY FOR LARGE TEST SETS)\n",
    "# preds,y = learn.get_preds(ds_type=DatasetType.Test)\n",
    "# predicted_masks = np.argmax(preds,axis=1) # get highest class probabilities (dim 1)\n",
    "# predicted_masks = torch.unsqueeze(predicted_masks,1) # shape = [len(test),1,400,400]"
   ]
  },
  {
   "cell_type": "code",
   "execution_count": null,
   "metadata": {},
   "outputs": [],
   "source": [
    "# Loop through each item in the testset and save as image (RUNS OUT OF MEMORY)\n",
    "# for i in range(num_test):\n",
    "#     img_fn = str(learn.data.test_ds.items[i]).split(\"/\")[-1] \n",
    "    \n",
    "#     if not token in img_fn:\n",
    "#         continue # skip imaginary\n",
    "        \n",
    "#     mask = ImageSegment(predicted_masks[i]); # convert torch.Tensor to fastai.image.ImageSegment\n",
    "#     test_img = learn.data.test_dl.dataset[i][0]; \n",
    "#     print(img_fn)\n",
    "#     test_img.show(y=mask); # optional display here\n",
    "    \n",
    "#     # Save mask image\n",
    "#     X = image2np(mask.data).astype(np.uint8)\n",
    "#     pred_fn = get_pred_fn(Path(img_fn))\n",
    "#     PIL.Image.fromarray(X).save(Path(pred_fn))"
   ]
  },
  {
   "cell_type": "code",
   "execution_count": null,
   "metadata": {},
   "outputs": [],
   "source": [
    "# .onnx needs an example tensor X\n",
    "# img_size = learn.data.test_dl.dataset[0][0].px.size()\n",
    "# X = torch.randn(img_size,requires_grad=False).unsqueeze(0).cuda()\n",
    "# X.size()\n",
    "\n",
    "# Export to .onnx (DOESN'T WORK but would be cool)\n",
    "# Could import model.onnx to MATLAB and do all the inference/predictions there\n",
    "# learn.model.eval();\n",
    "# torch_out = torch.onnx.export(learn.model, X, \"model.onnx\", export_params=True,verbose=True)"
   ]
  }
 ],
 "metadata": {
  "kernelspec": {
   "display_name": "Python 3",
   "language": "python",
   "name": "python3"
  },
  "language_info": {
   "codemirror_mode": {
    "name": "ipython",
    "version": 3
   },
   "file_extension": ".py",
   "mimetype": "text/x-python",
   "name": "python",
   "nbconvert_exporter": "python",
   "pygments_lexer": "ipython3",
   "version": "3.6.9"
  }
 },
 "nbformat": 4,
 "nbformat_minor": 4
}
